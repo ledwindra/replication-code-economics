{
 "cells": [
  {
   "cell_type": "code",
   "execution_count": null,
   "id": "fe4683b7",
   "metadata": {},
   "outputs": [],
   "source": [
    "import crossref_commons.retrieval\n",
    "import json\n",
    "import matplotlib.pyplot as plt\n",
    "import numpy as np\n",
    "import os\n",
    "import pandas as pd\n",
    "import requests\n",
    "from bs4 import BeautifulSoup\n",
    "from datetime import datetime, timedelta\n",
    "from src.crossref import current_timestamp\n",
    "from src.github_api import ReplicationCode\n",
    "from time import sleep"
   ]
  },
  {
   "cell_type": "markdown",
   "id": "57210db6",
   "metadata": {},
   "source": [
    "# GitHub API"
   ]
  },
  {
   "cell_type": "code",
   "execution_count": null,
   "id": "97bdac3c",
   "metadata": {},
   "outputs": [],
   "source": [
    "rc = ReplicationCode()\n",
    "ghapi = rc.dataframe()\n",
    "fig, ax = plt.subplots(figsize=(15, 5))\n",
    "plt.plot('created_at', 'count', data=ghapi)\n",
    "plt.grid(b=True)\n",
    "plt.title('Public repositories with \"replication code\" keywords for Stata language')\n",
    "plt.xlabel('Year created')\n",
    "plt.ylabel('Total repositories')\n",
    "plt.savefig('img/replication-code-stata.png', bbox_inches = 'tight')"
   ]
  },
  {
   "cell_type": "markdown",
   "id": "0035bf44",
   "metadata": {},
   "source": [
    "# AEA Deposits on ICPSR "
   ]
  },
  {
   "cell_type": "code",
   "execution_count": null,
   "id": "06c0487f",
   "metadata": {},
   "outputs": [],
   "source": [
    "# check whether all data have been downloaded\n",
    "!python3 src/aea.py --help\n",
    "!python3 src/aea.py -j aer\n",
    "!python3 src/aea.py -j aeri\n",
    "!python3 src/aea.py -j app\n",
    "!python3 src/aea.py -j pol\n",
    "!python3 src/aea.py -j mac\n",
    "!python3 src/aea.py -j mic\n",
    "!python3 src/aea.py -j jel\n",
    "!python3 src/aea.py -j jep\n",
    "!python3 src/aea.py -j pandp"
   ]
  },
  {
   "cell_type": "code",
   "execution_count": null,
   "id": "62888a77",
   "metadata": {},
   "outputs": [],
   "source": [
    "aea = os.listdir('data/aea/raw')"
   ]
  },
  {
   "cell_type": "code",
   "execution_count": null,
   "id": "f4b9acb2",
   "metadata": {},
   "outputs": [],
   "source": [
    "def dataframe(file):\n",
    "    with open(f'data/aea/raw/{file}', 'r') as f:\n",
    "        data = json.load(f)\n",
    "\n",
    "    df = pd.DataFrame(data['article'])\n",
    "    df.insert(0, 'issue_url', data['issue_url'])\n",
    "    df.insert(1, 'publication_date', data['publication_date'])\n",
    "\n",
    "    return df"
   ]
  },
  {
   "cell_type": "code",
   "execution_count": null,
   "id": "de7215ba",
   "metadata": {},
   "outputs": [],
   "source": [
    "df = pd.concat([dataframe(x) for x in aea], sort=False)\n",
    "df = df.reset_index(drop=True)\n",
    "df['year'] = df.publication_date.apply(lambda x: x[-4:])\n",
    "df['year'] = df.year.astype(str)"
   ]
  },
  {
   "cell_type": "code",
   "execution_count": null,
   "id": "4b976e89",
   "metadata": {},
   "outputs": [],
   "source": [
    "size = df.groupby('year')['icpsr'].size()\n",
    "count = df.groupby('year')['icpsr'].count()\n",
    "icpsr = pd.merge(size, count, on='year')\n",
    "icpsr['proportion'] = icpsr.icpsr_y / icpsr.icpsr_x\n",
    "icpsr = icpsr.reset_index()"
   ]
  },
  {
   "cell_type": "code",
   "execution_count": null,
   "id": "336d3b86",
   "metadata": {},
   "outputs": [],
   "source": [
    "def monthly():\n",
    "    # will be used for monthly\n",
    "    dates = []\n",
    "    base_date = icpsr.publication_date.min()\n",
    "    while base_date <= icpsr.publication_date.max():\n",
    "        if base_date.day == 1:\n",
    "            dates.append(base_date)\n",
    "        base_date += timedelta(days=1)\n",
    "    datesdf = pd.DataFrame(sorted(dates), columns=['publication_date'])\n",
    "\n",
    "    icpsr = pd.merge(datesdf, icpsr, how='left', on='publication_date')\n",
    "    icpsr.percent = icpsr.percent.fillna(0)\n",
    "    \n",
    "    return icpsr"
   ]
  },
  {
   "cell_type": "code",
   "execution_count": null,
   "id": "5484048e",
   "metadata": {},
   "outputs": [],
   "source": [
    "fig, ax = plt.subplots(figsize=(15, 5))\n",
    "plt.plot('year', 'proportion', data=icpsr)\n",
    "plt.grid(b=True)\n",
    "plt.title('Yearly proportions of AEA papers that have deposits in ICPSR')\n",
    "plt.xticks(rotation = 45)\n",
    "plt.xlabel('Year')\n",
    "plt.ylabel('Proportions')\n",
    "plt.savefig('img/aea-deposit-icpsr.png', bbox_inches = 'tight')"
   ]
  },
  {
   "cell_type": "markdown",
   "id": "bac46097",
   "metadata": {},
   "source": [
    "# Top 10 econ journals"
   ]
  },
  {
   "cell_type": "code",
   "execution_count": null,
   "id": "9f60e5ee",
   "metadata": {},
   "outputs": [],
   "source": [
    "def check_column(data, column):\n",
    "    try:\n",
    "        return data[column]\n",
    "    except KeyError:\n",
    "        return None\n",
    "    \n",
    "def dataframe(path, journal, file_name):\n",
    "    df = []\n",
    "    for j in journal:\n",
    "        with open(f'{path}/{j}', 'r') as f:\n",
    "            data = json.load(f)\n",
    "            url = data['URL']\n",
    "            print(f'{current_timestamp()}: {url}')\n",
    "            d = {\n",
    "                'doi': url,\n",
    "                'title': check_column(data, 'title'),\n",
    "                'author': check_column(data, 'author'),\n",
    "                'publisher': check_column(data, 'publisher'),\n",
    "                'created': check_column(data, 'created'),\n",
    "                'has_replication': has_replication(url)\n",
    "\n",
    "            }\n",
    "            df.append(d)\n",
    "\n",
    "    pd.DataFrame(df).to_csv(f'data/has-replication/{file_name}.csv', index=False)"
   ]
  },
  {
   "cell_type": "markdown",
   "id": "b26334ca",
   "metadata": {},
   "source": [
    "## American Economic Association\n",
    "\n",
    "AEA has three journals that are listed in top 10 econ journals according to IDEAS/RePEc. They are:\n",
    "- American Economic Review (#1)\n",
    "- Journal of Economic Literature (#2)\n",
    "- Journal of Economic Perspectives (#10)"
   ]
  },
  {
   "cell_type": "code",
   "execution_count": null,
   "id": "95e0b3c4",
   "metadata": {},
   "outputs": [],
   "source": [
    "path = 'data/aea/raw'\n",
    "os.system(f'rm -rf {path}/.ipynb_checkpoints')\n",
    "aea = os.listdir(path)\n",
    "aea = [json.load(open(f'{path}/{x}', 'r')) for x in aea]"
   ]
  },
  {
   "cell_type": "code",
   "execution_count": null,
   "id": "1d69b886",
   "metadata": {},
   "outputs": [],
   "source": [
    "for i in aea:\n",
    "    for j in i['article']:\n",
    "        j.update({'publication_date': i['publication_date']})"
   ]
  },
  {
   "cell_type": "code",
   "execution_count": null,
   "id": "26edbda3",
   "metadata": {},
   "outputs": [],
   "source": [
    "def has_replication(journal, file_name):\n",
    "    df = pd.concat([pd.DataFrame(x['article']) for x in aea], sort=False)\n",
    "    df = df.reset_index(drop=True)\n",
    "    df['has_replication'] = df.icpsr.apply(lambda x: x != None)\n",
    "    df[journal] = df.url.apply(lambda x: f'{journal}.' in x.lower())\n",
    "    df = df[df[journal] == True]\n",
    "    df = df[['url', 'icpsr', 'publication_date', 'has_replication']]\n",
    "    df = df.reset_index(drop=True)\n",
    "    df.to_csv(f'data/has-replication/{file_name}.csv', index=False)\n",
    "    \n",
    "has_replication('aer', 'american-economic-review')\n",
    "has_replication('jel', 'journal-of-economic-literature')\n",
    "has_replication('jep', 'journal-of-economic-perspectives')"
   ]
  },
  {
   "cell_type": "markdown",
   "id": "407b355e",
   "metadata": {},
   "source": [
    "## 3. The Quarterly Journal of Economics"
   ]
  },
  {
   "cell_type": "code",
   "execution_count": null,
   "id": "3212a330",
   "metadata": {},
   "outputs": [],
   "source": [
    "path = 'data/crossref/s-oup-qjecon'\n",
    "qje = os.listdir(path)\n",
    "\n",
    "def has_replication(url):\n",
    "    '''\n",
    "    DOI example that has supplementary data: https://doi.org/10.1093/qje/qjaa038\n",
    "    DOI example that doesn't have any supplementary data: http://dx.doi.org/10.1093/qje/qjr049\n",
    "    '''\n",
    "\n",
    "    status_code = None\n",
    "    while status_code not in [200, 404]:\n",
    "        try:\n",
    "            res = requests.get(url, headers={'user-agent': os.environ['USER_AGENT']})\n",
    "            status_code = res.status_code\n",
    "            content = BeautifulSoup(res.content, features='html.parser')\n",
    "            return content.find('h2', {'id': 'supplementary-data'}) != None\n",
    "        except Exception as e:\n",
    "            print(f'{current_timestamp()}: {url} has an error -> {e}')\n",
    "            pass\n",
    "        \n",
    "dataframe(path, qje, 'the-quarterly-journal-of-economics')"
   ]
  },
  {
   "cell_type": "markdown",
   "id": "607927cd",
   "metadata": {},
   "source": [
    "## 5. Journal of Political Economy"
   ]
  },
  {
   "cell_type": "code",
   "execution_count": null,
   "id": "7b3a9b2a",
   "metadata": {},
   "outputs": [],
   "source": [
    "path = 'data/crossref/s-ucp-jpolec'\n",
    "jpolec = os.listdir(path)\n",
    "\n",
    "def has_replication(url):\n",
    "    status_code = None\n",
    "    while status_code not in [200, 404]:\n",
    "        try:\n",
    "            res = requests.get(url)\n",
    "            sleep(1)\n",
    "            status_code = res.status_code\n",
    "            content = BeautifulSoup(res.content, features='html.parser')\n",
    "            div = content.find('div', {'class': 'article__navbar__row tos-list__wrapper'})\n",
    "            try:\n",
    "                return 'supplemental material' in [x.text.lower() for x in div.find_all('li')]\n",
    "            except:\n",
    "                return False\n",
    "        except Exception as e:\n",
    "            print(f'{current_timestamp()}: {url} has an error -> {e}')\n",
    "            pass\n",
    "        \n",
    "dataframe(path, jpolec, 'journal-of-political-economy')"
   ]
  },
  {
   "cell_type": "markdown",
   "id": "f97bf869",
   "metadata": {},
   "source": [
    "## 6. Journal of Economic Growth "
   ]
  },
  {
   "cell_type": "code",
   "execution_count": null,
   "id": "65c19432",
   "metadata": {},
   "outputs": [],
   "source": [
    "path = 'data/crossref/s-kap-jecgro'\n",
    "jecgro = os.listdir(path)\n",
    "\n",
    "def has_replication(url):\n",
    "    '''\n",
    "    DOI example with Electronic supplementary material: https://doi.org/10.1007/s10887-020-09183-6\n",
    "    DOI example with Supplementary Information: https://doi.org/10.1007/s10887-020-09185-4\n",
    "    '''\n",
    "    \n",
    "    status_code = None\n",
    "    while status_code not in [200, 404]:\n",
    "        try:\n",
    "            res = requests.get(url)\n",
    "            status_code = res.status_code\n",
    "            content = BeautifulSoup(res.content, features='html.parser')\n",
    "            supplement = lambda keyword: content.find('section', {'data-title': keyword}).text.lower()\n",
    "            try:\n",
    "                return 'supplementary material' in supplement('Electronic supplementary material')\n",
    "            except AttributeError:\n",
    "                try:\n",
    "                    return 'supplementary material' in supplement('Supplementary Information')\n",
    "                except AttributeError:\n",
    "                    return False\n",
    "            except Exception as e:\n",
    "                print(f'{current_timestamp()}: {url} has an error -> {e}')\n",
    "                return False\n",
    "        except Exception as e:\n",
    "            print(f'{current_timestamp()}: {url} has an error -> {e}')\n",
    "            pass\n",
    "\n",
    "dataframe(path, jecgro, 'journal-of-economic-growth')"
   ]
  },
  {
   "cell_type": "markdown",
   "id": "bbec9551",
   "metadata": {},
   "source": [
    "## 7. Review of Financial Studies"
   ]
  },
  {
   "cell_type": "code",
   "execution_count": null,
   "id": "d606313c",
   "metadata": {},
   "outputs": [],
   "source": [
    "path = 'data/crossref/s-oup-rfinst'\n",
    "rfinst = os.listdir(path)\n",
    "\n",
    "def has_replication(url):\n",
    "\n",
    "    status_code = None\n",
    "    while status_code not in [200, 404]:\n",
    "        try:\n",
    "            res = requests.get(url, headers={'user-agent': os.environ['USER_AGENT']})\n",
    "            print(res)\n",
    "            status_code = res.status_code\n",
    "            content = BeautifulSoup(res.content, features='html.parser')\n",
    "            supplementary = content.find('h2', {'id': 'supplementary-data'})\n",
    "            return supplementary != None\n",
    "        except Exception as e:\n",
    "            print(f'{current_timestamp()}: {url} has an error -> {e}')\n",
    "            pass\n",
    "        \n",
    "dataframe(path, rfinst, 'the-review-of-financial-studies')"
   ]
  },
  {
   "cell_type": "markdown",
   "id": "9e373be6",
   "metadata": {},
   "source": [
    "## 8. Econometrica "
   ]
  },
  {
   "cell_type": "code",
   "execution_count": null,
   "id": "bdf86767",
   "metadata": {},
   "outputs": [],
   "source": [
    "path = 'data/crossref/s-wly-emetrp'\n",
    "econometrica = os.listdir(path)\n",
    "\n",
    "def has_replication(url):\n",
    "    status_code = []\n",
    "    while status_code not in [200, 404]:\n",
    "        try:\n",
    "            res = requests.get(url)\n",
    "            status_code = res.status_code\n",
    "            content = BeautifulSoup(res.content, features='html.parser')\n",
    "            try:\n",
    "                article = content.find('article')\n",
    "                return 'replication' in article.text.lower()\n",
    "            except:\n",
    "                return False\n",
    "        except Exception as e:\n",
    "            print(f'{current_timestamp()}: {url} has an error -> {e}')\n",
    "            pass\n",
    "        \n",
    "dataframe(path, econometrica, 'econometrica')"
   ]
  },
  {
   "cell_type": "markdown",
   "id": "8c781a52",
   "metadata": {},
   "source": [
    "## 9. Journal of Finance"
   ]
  },
  {
   "cell_type": "code",
   "execution_count": null,
   "id": "ac3e46d9",
   "metadata": {},
   "outputs": [],
   "source": [
    "path = 'data/crossref/s-bla-jfinan'\n",
    "jfinan = os.listdir(path)\n",
    "\n",
    "def _jfinan_crossref():\n",
    "    dfs = []\n",
    "    for i in jfinan:\n",
    "        with open(f'{path}/{i}', 'r') as f:\n",
    "            data = json.load(f)\n",
    "        d = {\n",
    "            'doi': data['URL'],\n",
    "            'title': check_column(data, 'title'),\n",
    "            'author': check_column(data, 'author'),\n",
    "            'publisher': check_column(data, 'publisher'),\n",
    "            'created': check_column(data, 'created'),\n",
    "            'has_replication': False\n",
    "\n",
    "        }\n",
    "\n",
    "        dfs.append(pd.DataFrame([d]))\n",
    "\n",
    "    df = pd.concat(dfs, sort=False)\n",
    "    \n",
    "    return df\n",
    "\n",
    "def has_replication():\n",
    "    status_code = None\n",
    "    while status_code not in [200, 404]:\n",
    "        try:\n",
    "            url = 'https://afajof.org/supplements/'\n",
    "            res = requests.get(url, headers={'user-agent': os.environ['USER_AGENT']})\n",
    "            status_code = res.status_code\n",
    "        except Exception as e:\n",
    "            print(f'{current_timestamp()}: {url} has an error -> {e}')\n",
    "            pass        \n",
    "    content = BeautifulSoup(res.content, features='html.parser')\n",
    "    div = content.find('div', {'class': 'site-content-contain'})\n",
    "    doi = [x.text for x in div.find_all('p') if 'doi' in x.text]\n",
    "    crossref = [crossref_commons.retrieval.get_publication_as_json(x) for x in doi]\n",
    "    dfs = []\n",
    "    for i in crossref:\n",
    "        d = {\n",
    "            'doi': i['URL'],\n",
    "            'title': check_column(i, 'title'),\n",
    "            'author': check_column(i, 'author'),\n",
    "            'publisher': check_column(i, 'publisher'),\n",
    "            'created': check_column(i, 'created'),\n",
    "            'has_replication': True\n",
    "\n",
    "        }\n",
    "        dfs.append(pd.DataFrame([d]))\n",
    "        file_name = i['DOI'].replace('/', '-')\n",
    "        with open(f'{path}/{file_name}', 'w') as f:\n",
    "            json.dump(i, f, indent=4)\n",
    "    \n",
    "    df = pd.concat(dfs, sort=False)\n",
    "    \n",
    "    return df\n",
    "\n",
    "df = pd.concat([_jfinan_crossref(), has_replication()], sort=False)\n",
    "df.to_csv('data/has-replication/journal-of-finance.csv', index=False)"
   ]
  }
 ],
 "metadata": {
  "kernelspec": {
   "display_name": "Python 3",
   "language": "python",
   "name": "python3"
  },
  "language_info": {
   "codemirror_mode": {
    "name": "ipython",
    "version": 3
   },
   "file_extension": ".py",
   "mimetype": "text/x-python",
   "name": "python",
   "nbconvert_exporter": "python",
   "pygments_lexer": "ipython3",
   "version": "3.8.1"
  }
 },
 "nbformat": 4,
 "nbformat_minor": 5
}
