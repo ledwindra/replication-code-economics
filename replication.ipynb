{
 "cells": [
  {
   "cell_type": "code",
   "execution_count": 1,
   "id": "a5d657ae",
   "metadata": {},
   "outputs": [],
   "source": [
    "import json\n",
    "import matplotlib.pyplot as plt\n",
    "import numpy as np\n",
    "import os\n",
    "import pandas as pd\n",
    "import requests\n",
    "from bs4 import BeautifulSoup\n",
    "from datetime import datetime, timedelta\n",
    "from src.crossref import current_timestamp\n",
    "from src.github_api import ReplicationCode\n",
    "from time import sleep"
   ]
  },
  {
   "cell_type": "markdown",
   "id": "1d7c54c8",
   "metadata": {},
   "source": [
    "# GitHub API"
   ]
  },
  {
   "cell_type": "code",
   "execution_count": null,
   "id": "d4684e05",
   "metadata": {},
   "outputs": [],
   "source": [
    "rc = ReplicationCode()\n",
    "ghapi = rc.dataframe()\n",
    "fig, ax = plt.subplots(figsize=(15, 5))\n",
    "plt.plot('created_at', 'count', data=ghapi)\n",
    "plt.grid(b=True)\n",
    "plt.title('Public repositories with \"replication code\" keywords for Stata language')\n",
    "plt.xlabel('Year created')\n",
    "plt.ylabel('Total repositories')\n",
    "plt.savefig('img/replication-code-stata.png', bbox_inches = 'tight')"
   ]
  },
  {
   "cell_type": "markdown",
   "id": "57acc5ea",
   "metadata": {},
   "source": [
    "# AEA Deposits on ICPSR "
   ]
  },
  {
   "cell_type": "code",
   "execution_count": null,
   "id": "214403ff",
   "metadata": {},
   "outputs": [],
   "source": [
    "# check whether all data have been downloaded\n",
    "!python3 src/aea.py --help\n",
    "!python3 src/aea.py -j aer\n",
    "!python3 src/aea.py -j aeri\n",
    "!python3 src/aea.py -j app\n",
    "!python3 src/aea.py -j pol\n",
    "!python3 src/aea.py -j mac\n",
    "!python3 src/aea.py -j mic\n",
    "!python3 src/aea.py -j jel\n",
    "!python3 src/aea.py -j jep\n",
    "!python3 src/aea.py -j pandp"
   ]
  },
  {
   "cell_type": "code",
   "execution_count": null,
   "id": "8c38750e",
   "metadata": {},
   "outputs": [],
   "source": [
    "aea = os.listdir('data/aea')"
   ]
  },
  {
   "cell_type": "code",
   "execution_count": null,
   "id": "b48903f4",
   "metadata": {},
   "outputs": [],
   "source": [
    "def dataframe(file):\n",
    "    with open(f'data/aea/{file}', 'r') as f:\n",
    "        data = json.load(f)\n",
    "\n",
    "    df = pd.DataFrame(data['article'])\n",
    "    df.insert(0, 'issue_url', data['issue_url'])\n",
    "    df.insert(1, 'publication_date', data['publication_date'])\n",
    "\n",
    "    return df"
   ]
  },
  {
   "cell_type": "code",
   "execution_count": null,
   "id": "ef0528cc",
   "metadata": {},
   "outputs": [],
   "source": [
    "df = pd.concat([dataframe(x) for x in aea], sort=False)\n",
    "df = df.reset_index(drop=True)\n",
    "df['year'] = df.publication_date.apply(lambda x: x[-4:])\n",
    "df['year'] = df.year.astype(str)"
   ]
  },
  {
   "cell_type": "code",
   "execution_count": null,
   "id": "bba29b67",
   "metadata": {},
   "outputs": [],
   "source": [
    "size = df.groupby('year')['icpsr'].size()\n",
    "count = df.groupby('year')['icpsr'].count()\n",
    "icpsr = pd.merge(size, count, on='year')\n",
    "icpsr['proportion'] = icpsr.icpsr_y / icpsr.icpsr_x\n",
    "icpsr = icpsr.reset_index()"
   ]
  },
  {
   "cell_type": "code",
   "execution_count": null,
   "id": "cf734a64",
   "metadata": {},
   "outputs": [],
   "source": [
    "def monthly():\n",
    "    # will be used for monthly\n",
    "    dates = []\n",
    "    base_date = icpsr.publication_date.min()\n",
    "    while base_date <= icpsr.publication_date.max():\n",
    "        if base_date.day == 1:\n",
    "            dates.append(base_date)\n",
    "        base_date += timedelta(days=1)\n",
    "    datesdf = pd.DataFrame(sorted(dates), columns=['publication_date'])\n",
    "\n",
    "    icpsr = pd.merge(datesdf, icpsr, how='left', on='publication_date')\n",
    "    icpsr.percent = icpsr.percent.fillna(0)\n",
    "    \n",
    "    return icpsr"
   ]
  },
  {
   "cell_type": "code",
   "execution_count": null,
   "id": "cb7f6ceb",
   "metadata": {},
   "outputs": [],
   "source": [
    "fig, ax = plt.subplots(figsize=(15, 5))\n",
    "plt.plot('year', 'proportion', data=icpsr)\n",
    "plt.grid(b=True)\n",
    "plt.title('Yearly proportions of AEA papers that have deposits in ICPSR')\n",
    "plt.xticks(rotation = 45)\n",
    "plt.xlabel('Year')\n",
    "plt.ylabel('Proportions')\n",
    "plt.savefig('img/aea-deposit-icpsr.png', bbox_inches = 'tight')"
   ]
  },
  {
   "cell_type": "markdown",
   "id": "9a1ef01f",
   "metadata": {},
   "source": [
    "# Top 10 econ journals"
   ]
  },
  {
   "cell_type": "code",
   "execution_count": 6,
   "id": "3db0028e",
   "metadata": {},
   "outputs": [],
   "source": [
    "def check_column(data, column):\n",
    "    try:\n",
    "        return data[column]\n",
    "    except KeyError:\n",
    "        return None\n",
    "    \n",
    "def dataframe(path, journal, file_name):\n",
    "    df = []\n",
    "    for j in journal:\n",
    "        with open(f'{path}/{j}', 'r') as f:\n",
    "            data = json.load(f)\n",
    "            url = data['URL']\n",
    "            print(f'{current_timestamp()}: {url}')\n",
    "            d = {\n",
    "                'doi': url,\n",
    "                'title': check_column(data, 'title'),\n",
    "                'author': check_column(data, 'author'),\n",
    "                'publisher': check_column(data, 'publisher'),\n",
    "                'created': check_column(data, 'created'),\n",
    "                'has_replication': has_replication(url)\n",
    "\n",
    "            }\n",
    "            df.append(d)\n",
    "\n",
    "    pd.DataFrame(df).to_csv(f'data/has-replication/{file_name}.csv', index=False)"
   ]
  },
  {
   "cell_type": "markdown",
   "id": "45a6d42d",
   "metadata": {},
   "source": [
    "## Econometrica "
   ]
  },
  {
   "cell_type": "code",
   "execution_count": null,
   "id": "db43eb26",
   "metadata": {},
   "outputs": [],
   "source": [
    "path = 'data/crossref/s-wly-emetrp'\n",
    "econometrica = os.listdir(path)\n",
    "\n",
    "def has_replication(url):\n",
    "    status_code = []\n",
    "    while status_code not in [200, 404]:\n",
    "        try:\n",
    "            res = requests.get(url)\n",
    "            status_code = res.status_code\n",
    "            content = BeautifulSoup(res.content, features='html.parser')\n",
    "            try:\n",
    "                article = content.find('article')\n",
    "                return 'replication' in article.text.lower()\n",
    "            except:\n",
    "                return None\n",
    "        except Exception as e:\n",
    "            print(f'{current_timestamp()}: {url} has an error -> {e}')\n",
    "            pass\n",
    "        \n",
    "# dataframe(path, econometrica, 'econometrica')"
   ]
  },
  {
   "cell_type": "markdown",
   "id": "dc4e3659",
   "metadata": {},
   "source": [
    "## Journal of Political Economy"
   ]
  },
  {
   "cell_type": "code",
   "execution_count": 4,
   "id": "74d1e41b",
   "metadata": {},
   "outputs": [],
   "source": [
    "path = 'data/crossref/s-ucp-jpolec'\n",
    "jpolec = os.listdir(path)\n",
    "\n",
    "def has_replication(url):\n",
    "    status_code = None\n",
    "    while status_code not in [200, 404]:\n",
    "        try:\n",
    "            res = requests.get(url)\n",
    "            sleep(1)\n",
    "            content = BeautifulSoup(res.content, features='html.parser')\n",
    "            div = content.find('div', {'class': 'article__navbar__row tos-list__wrapper'})\n",
    "            try:\n",
    "                return 'supplemental material' in [x.text.lower() for x in div.find_all('li')]\n",
    "            except:\n",
    "                return None\n",
    "        except Exception as e:\n",
    "            print(f'{current_timestamp()}: {url} has an error -> {e}')\n",
    "            pass\n",
    "        \n",
    "# dataframe(path, jpolec, 'journal-of-political-economy')"
   ]
  },
  {
   "cell_type": "markdown",
   "id": "5a806998",
   "metadata": {},
   "source": [
    "# The Quarterly Journal of Economics"
   ]
  },
  {
   "cell_type": "code",
   "execution_count": 7,
   "id": "5c0115bb",
   "metadata": {},
   "outputs": [],
   "source": [
    "path = 'data/crossref/s-oup-qjecon'\n",
    "qje = os.listdir(path)\n",
    "\n",
    "def has_replication(url):\n",
    "    '''\n",
    "    DOI example that has supplementary data: https://doi.org/10.1093/qje/qjaa038\n",
    "    DOI example that doesn't have any supplementary data: http://dx.doi.org/10.1093/qje/qjr049\n",
    "    '''\n",
    "    \n",
    "    user_agent = os.environ['USER_AGENT']\n",
    "    status_code = None\n",
    "    while status_code not in [200, 404]:\n",
    "        try:\n",
    "            res = requests.get(url, headers={'user-agent': user_agent})\n",
    "            content = BeautifulSoup(res.content, features='html.parser')\n",
    "            return content.find('h2', {'id': 'supplementary-data'}) != None\n",
    "        except Exception as e:\n",
    "            print(f'{current_timestamp()}: {url} has an error -> {e}')\n",
    "            pass\n",
    "        \n",
    "# dataframe(path, qje, 'the-quarterly-journal-of-economics')"
   ]
  },
  {
   "cell_type": "code",
   "execution_count": 8,
   "id": "7071ac6a",
   "metadata": {},
   "outputs": [
    {
     "data": {
      "text/html": [
       "<div>\n",
       "<style scoped>\n",
       "    .dataframe tbody tr th:only-of-type {\n",
       "        vertical-align: middle;\n",
       "    }\n",
       "\n",
       "    .dataframe tbody tr th {\n",
       "        vertical-align: top;\n",
       "    }\n",
       "\n",
       "    .dataframe thead th {\n",
       "        text-align: right;\n",
       "    }\n",
       "</style>\n",
       "<table border=\"1\" class=\"dataframe\">\n",
       "  <thead>\n",
       "    <tr style=\"text-align: right;\">\n",
       "      <th></th>\n",
       "      <th>doi</th>\n",
       "      <th>title</th>\n",
       "      <th>author</th>\n",
       "      <th>publisher</th>\n",
       "      <th>created</th>\n",
       "      <th>has_replication</th>\n",
       "    </tr>\n",
       "  </thead>\n",
       "  <tbody>\n",
       "    <tr>\n",
       "      <th>7</th>\n",
       "      <td>http://dx.doi.org/10.1093/qje/qjx043</td>\n",
       "      <td>['Distributional National Accounts: Methods an...</td>\n",
       "      <td>[{'given': 'Thomas', 'family': 'Piketty', 'seq...</td>\n",
       "      <td>Oxford University Press (OUP)</td>\n",
       "      <td>{'date-parts': [[2017, 10, 5]], 'date-time': '...</td>\n",
       "      <td>True</td>\n",
       "    </tr>\n",
       "    <tr>\n",
       "      <th>8</th>\n",
       "      <td>http://dx.doi.org/10.1093/qje/qjaa006</td>\n",
       "      <td>['A Unified Welfare Analysis of Government Pol...</td>\n",
       "      <td>[{'given': 'Nathaniel', 'family': 'Hendren', '...</td>\n",
       "      <td>Oxford University Press (OUP)</td>\n",
       "      <td>{'date-parts': [[2020, 3, 3]], 'date-time': '2...</td>\n",
       "      <td>True</td>\n",
       "    </tr>\n",
       "    <tr>\n",
       "      <th>728</th>\n",
       "      <td>http://dx.doi.org/10.1093/qje/qjv013</td>\n",
       "      <td>['The Aggregate Effect of School Choice: Evide...</td>\n",
       "      <td>[{'given': 'Karthik', 'family': 'Muralidharan'...</td>\n",
       "      <td>Oxford University Press (OUP)</td>\n",
       "      <td>{'date-parts': [[2015, 3, 1]], 'date-time': '2...</td>\n",
       "      <td>True</td>\n",
       "    </tr>\n",
       "    <tr>\n",
       "      <th>742</th>\n",
       "      <td>http://dx.doi.org/10.1093/qje/qjw004</td>\n",
       "      <td>['Wealth Inequality in the United States since...</td>\n",
       "      <td>[{'given': 'Emmanuel', 'family': 'Saez', 'sequ...</td>\n",
       "      <td>Oxford University Press (OUP)</td>\n",
       "      <td>{'date-parts': [[2016, 2, 17]], 'date-time': '...</td>\n",
       "      <td>True</td>\n",
       "    </tr>\n",
       "  </tbody>\n",
       "</table>\n",
       "</div>"
      ],
      "text/plain": [
       "                                       doi  \\\n",
       "7     http://dx.doi.org/10.1093/qje/qjx043   \n",
       "8    http://dx.doi.org/10.1093/qje/qjaa006   \n",
       "728   http://dx.doi.org/10.1093/qje/qjv013   \n",
       "742   http://dx.doi.org/10.1093/qje/qjw004   \n",
       "\n",
       "                                                 title  \\\n",
       "7    ['Distributional National Accounts: Methods an...   \n",
       "8    ['A Unified Welfare Analysis of Government Pol...   \n",
       "728  ['The Aggregate Effect of School Choice: Evide...   \n",
       "742  ['Wealth Inequality in the United States since...   \n",
       "\n",
       "                                                author  \\\n",
       "7    [{'given': 'Thomas', 'family': 'Piketty', 'seq...   \n",
       "8    [{'given': 'Nathaniel', 'family': 'Hendren', '...   \n",
       "728  [{'given': 'Karthik', 'family': 'Muralidharan'...   \n",
       "742  [{'given': 'Emmanuel', 'family': 'Saez', 'sequ...   \n",
       "\n",
       "                         publisher  \\\n",
       "7    Oxford University Press (OUP)   \n",
       "8    Oxford University Press (OUP)   \n",
       "728  Oxford University Press (OUP)   \n",
       "742  Oxford University Press (OUP)   \n",
       "\n",
       "                                               created  has_replication  \n",
       "7    {'date-parts': [[2017, 10, 5]], 'date-time': '...             True  \n",
       "8    {'date-parts': [[2020, 3, 3]], 'date-time': '2...             True  \n",
       "728  {'date-parts': [[2015, 3, 1]], 'date-time': '2...             True  \n",
       "742  {'date-parts': [[2016, 2, 17]], 'date-time': '...             True  "
      ]
     },
     "execution_count": 8,
     "metadata": {},
     "output_type": "execute_result"
    }
   ],
   "source": [
    "df = pd.read_csv('data/has-replication/the-quarterly-journal-of-economics.csv')\n",
    "df[df['has_replication'] == True]"
   ]
  },
  {
   "cell_type": "code",
   "execution_count": null,
   "id": "75997107",
   "metadata": {},
   "outputs": [],
   "source": []
  }
 ],
 "metadata": {
  "kernelspec": {
   "display_name": "Python 3",
   "language": "python",
   "name": "python3"
  },
  "language_info": {
   "codemirror_mode": {
    "name": "ipython",
    "version": 3
   },
   "file_extension": ".py",
   "mimetype": "text/x-python",
   "name": "python",
   "nbconvert_exporter": "python",
   "pygments_lexer": "ipython3",
   "version": "3.8.1"
  }
 },
 "nbformat": 4,
 "nbformat_minor": 5
}
